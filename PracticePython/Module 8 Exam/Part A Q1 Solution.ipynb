{
 "cells": [
  {
   "cell_type": "markdown",
   "source": [
    "In this solution the probabilities that i have taken are not that close to each other.\n",
    "\n",
    "If the probabilities are very close like 0.80, 0.78, 0.79 then it would be interesting to see how the agent tries to learn and differentiate with such less difference between the rewards given in the long run.\n",
    "\n",
    "I have taken 10000 runs with 500 episodes\n",
    "\n",
    "the epsilon value is 0.1 and if the value is decreased further to like 0.01 then it will take forever for the agent to explore and get something out of its exploration.\n",
    "\n",
    "If the value of epsilon is increased to say 0.5 it will take longer time to learn as initially the rewards are very poor and the agent will improve itself in the long run with vast knowledge thanks to greater exploration."
   ],
   "metadata": {}
  },
  {
   "cell_type": "code",
   "execution_count": null,
   "source": [
    "# Solution by Abhishek Rotti with help for Incremental update rule equation from Sutton RL book and Course from University of Alberta on RL"
   ],
   "outputs": [],
   "metadata": {}
  },
  {
   "cell_type": "code",
   "execution_count": 2,
   "source": [
    "# import numpy for array initialization, os for file handling, matplotlib for visualization\n",
    "import os\n",
    "import numpy as np\n",
    "import matplotlib.pyplot as plt"
   ],
   "outputs": [],
   "metadata": {}
  },
  {
   "cell_type": "code",
   "execution_count": 3,
   "source": [
    "# to initialize seed value for getting random numbers\n",
    "np.random.seed(0)"
   ],
   "outputs": [],
   "metadata": {}
  },
  {
   "cell_type": "code",
   "execution_count": 4,
   "source": [
    "# Setting up the environment required for the agent to work with\n",
    "\n",
    "class Environment:\n",
    "    \"\"\"\n",
    "    The environment class has a constructor to initialize the success probabilities and a step method to perform the action and get the\n",
    "    stochastic reward\n",
    "    \"\"\"\n",
    "\n",
    "    def __init__(self, probs):\n",
    "        self.probs = probs  # success probabilities for each arm\n",
    "\n",
    "\n",
    "    def step(self, action):\n",
    "        # Pull arm and get stochastic reward (1 for success, 0 for failure)\n",
    "        if (np.random.random() < self.probs[action]):\n",
    "            return 1\n",
    "        else:\n",
    "            return 0"
   ],
   "outputs": [],
   "metadata": {}
  },
  {
   "cell_type": "code",
   "execution_count": 5,
   "source": [
    "# creating the Agent class that works in an environment.\n",
    "\n",
    "class Agent:\n",
    "    \"\"\"\n",
    "    The Agent class consists of a constructor that the number of actions performed and the value of Q(a).\n",
    "    It also has a update method that updates the value of Q which is the cumulative reward.\n",
    "    It has a get action method to check for the next feasible action based on the epsilon value. higher chance of exploitation\n",
    "    with low chance of exploration\n",
    "    \"\"\"\n",
    "    def __init__(self, nActions, eps):\n",
    "        self.nActions = nActions\n",
    "        self.eps = eps\n",
    "        self.n = np.zeros(nActions, dtype=np.int) # action counts n(a)\n",
    "        self.Q = np.zeros(nActions, dtype=np.float) # value Q(a)\n",
    "\n",
    "    def update_Q(self, action, reward):\n",
    "        # Update Q action-value given (action, reward)\n",
    "        self.n[action] += 1\n",
    "        self.Q[action] += (1.0/self.n[action]) * (reward - self.Q[action])\n",
    "\n",
    "    def get_action(self):\n",
    "        # Epsilon-greedy policy\n",
    "        if np.random.random() < self.eps: # explore\n",
    "            return np.random.randint(self.nActions)\n",
    "        else: # exploit\n",
    "            return np.random.choice(np.flatnonzero(self.Q == self.Q.max()))"
   ],
   "outputs": [],
   "metadata": {}
  },
  {
   "cell_type": "code",
   "execution_count": 6,
   "source": [
    "# Start multi-armed bandit simulation\n",
    "def MultiArmedBanditProblem(probs, N_episodes):\n",
    "    env = Environment(probs) # initialize arm probabilities\n",
    "    agent = Agent(len(env.probs), eps)  # initialize agent\n",
    "    actions, rewards = [], []\n",
    "    for episode in range(N_episodes):\n",
    "        action = agent.get_action() # sample policy\n",
    "        reward = env.step(action) # take step + get reward\n",
    "        agent.update_Q(action, reward) # update Q\n",
    "        actions.append(action)\n",
    "        rewards.append(reward)\n",
    "    return np.array(actions), np.array(rewards)"
   ],
   "outputs": [],
   "metadata": {}
  },
  {
   "cell_type": "code",
   "execution_count": 7,
   "source": [
    "# Settings which are having manual probalities of 3 bandits with 1st one being the best (I expect Agent to pick this as the best one in the long term of things)\n",
    "probs = [0.80, 0.45, 0.75] # bandit arm probabilities of success\n",
    "N_experiments = 10000 # number of experiments to perform\n",
    "N_steps = 500 # number of steps (episodes)\n",
    "eps = 0.1 # probability of random exploration (fraction) this is nothing but 1 in 10 chance of exploration and 9 in 10 chance of exploitation\n",
    "save_fig = True # save file in same directory\n",
    "output_dir = os.path.join(os.getcwd(), \"output\")"
   ],
   "outputs": [],
   "metadata": {}
  },
  {
   "cell_type": "code",
   "execution_count": 9,
   "source": [
    "# Run multi-armed bandit experiments\n",
    "print(\"Running three-armed bandits with nActions = {}, eps = {}\".format(len(probs), eps))\n",
    "R = np.zeros((N_steps,))  # reward history sum\n",
    "A = np.zeros((N_steps, len(probs)))  # action history sum\n",
    "for i in range(N_experiments):\n",
    "    actions, rewards = MultiArmedBanditProblem(probs, N_steps)  # perform experiment\n",
    "    if (i + 1) % (N_experiments / 100) == 0:\n",
    "        print(\"[Experiment {}/{}] \".format(i + 1, N_experiments) +\n",
    "              \"n_steps = {}, \".format(N_steps) +\n",
    "              \"reward_avg = {}\".format(np.sum(rewards) / len(rewards)))\n",
    "    R += rewards\n",
    "    for j, a in enumerate(actions):\n",
    "        A[j][a] += 1"
   ],
   "outputs": [
    {
     "output_type": "stream",
     "name": "stdout",
     "text": [
      "Running three-armed bandits with nActions = 3, eps = 0.1\n"
     ]
    },
    {
     "output_type": "stream",
     "name": "stderr",
     "text": [
      "<ipython-input-5-fae727c99423>:13: DeprecationWarning: `np.int` is a deprecated alias for the builtin `int`. To silence this warning, use `int` by itself. Doing this will not modify any behavior and is safe. When replacing `np.int`, you may wish to use e.g. `np.int64` or `np.int32` to specify the precision. If you wish to review your current use, check the release note link for additional information.\n",
      "Deprecated in NumPy 1.20; for more details and guidance: https://numpy.org/devdocs/release/1.20.0-notes.html#deprecations\n",
      "  self.n = np.zeros(nActions, dtype=np.int) # action counts n(a)\n",
      "<ipython-input-5-fae727c99423>:14: DeprecationWarning: `np.float` is a deprecated alias for the builtin `float`. To silence this warning, use `float` by itself. Doing this will not modify any behavior and is safe. If you specifically wanted the numpy scalar type, use `np.float64` here.\n",
      "Deprecated in NumPy 1.20; for more details and guidance: https://numpy.org/devdocs/release/1.20.0-notes.html#deprecations\n",
      "  self.Q = np.zeros(nActions, dtype=np.float) # value Q(a)\n"
     ]
    },
    {
     "output_type": "stream",
     "name": "stdout",
     "text": [
      "[Experiment 100/10000] n_steps = 500, reward_avg = 0.746\n",
      "[Experiment 200/10000] n_steps = 500, reward_avg = 0.778\n",
      "[Experiment 300/10000] n_steps = 500, reward_avg = 0.806\n",
      "[Experiment 400/10000] n_steps = 500, reward_avg = 0.79\n",
      "[Experiment 500/10000] n_steps = 500, reward_avg = 0.734\n",
      "[Experiment 600/10000] n_steps = 500, reward_avg = 0.762\n",
      "[Experiment 700/10000] n_steps = 500, reward_avg = 0.752\n",
      "[Experiment 800/10000] n_steps = 500, reward_avg = 0.78\n",
      "[Experiment 900/10000] n_steps = 500, reward_avg = 0.776\n",
      "[Experiment 1000/10000] n_steps = 500, reward_avg = 0.784\n",
      "[Experiment 1100/10000] n_steps = 500, reward_avg = 0.732\n",
      "[Experiment 1200/10000] n_steps = 500, reward_avg = 0.784\n",
      "[Experiment 1300/10000] n_steps = 500, reward_avg = 0.74\n",
      "[Experiment 1400/10000] n_steps = 500, reward_avg = 0.784\n",
      "[Experiment 1500/10000] n_steps = 500, reward_avg = 0.786\n",
      "[Experiment 1600/10000] n_steps = 500, reward_avg = 0.75\n",
      "[Experiment 1700/10000] n_steps = 500, reward_avg = 0.772\n",
      "[Experiment 1800/10000] n_steps = 500, reward_avg = 0.738\n",
      "[Experiment 1900/10000] n_steps = 500, reward_avg = 0.738\n",
      "[Experiment 2000/10000] n_steps = 500, reward_avg = 0.772\n",
      "[Experiment 2100/10000] n_steps = 500, reward_avg = 0.784\n",
      "[Experiment 2200/10000] n_steps = 500, reward_avg = 0.784\n",
      "[Experiment 2300/10000] n_steps = 500, reward_avg = 0.768\n",
      "[Experiment 2400/10000] n_steps = 500, reward_avg = 0.714\n",
      "[Experiment 2500/10000] n_steps = 500, reward_avg = 0.732\n",
      "[Experiment 2600/10000] n_steps = 500, reward_avg = 0.802\n",
      "[Experiment 2700/10000] n_steps = 500, reward_avg = 0.796\n",
      "[Experiment 2800/10000] n_steps = 500, reward_avg = 0.778\n",
      "[Experiment 2900/10000] n_steps = 500, reward_avg = 0.762\n",
      "[Experiment 3000/10000] n_steps = 500, reward_avg = 0.756\n",
      "[Experiment 3100/10000] n_steps = 500, reward_avg = 0.764\n",
      "[Experiment 3200/10000] n_steps = 500, reward_avg = 0.748\n",
      "[Experiment 3300/10000] n_steps = 500, reward_avg = 0.73\n",
      "[Experiment 3400/10000] n_steps = 500, reward_avg = 0.736\n",
      "[Experiment 3500/10000] n_steps = 500, reward_avg = 0.762\n",
      "[Experiment 3600/10000] n_steps = 500, reward_avg = 0.76\n",
      "[Experiment 3700/10000] n_steps = 500, reward_avg = 0.742\n",
      "[Experiment 3800/10000] n_steps = 500, reward_avg = 0.762\n",
      "[Experiment 3900/10000] n_steps = 500, reward_avg = 0.762\n",
      "[Experiment 4000/10000] n_steps = 500, reward_avg = 0.776\n",
      "[Experiment 4100/10000] n_steps = 500, reward_avg = 0.78\n",
      "[Experiment 4200/10000] n_steps = 500, reward_avg = 0.762\n",
      "[Experiment 4300/10000] n_steps = 500, reward_avg = 0.822\n",
      "[Experiment 4400/10000] n_steps = 500, reward_avg = 0.766\n",
      "[Experiment 4500/10000] n_steps = 500, reward_avg = 0.768\n",
      "[Experiment 4600/10000] n_steps = 500, reward_avg = 0.806\n",
      "[Experiment 4700/10000] n_steps = 500, reward_avg = 0.772\n",
      "[Experiment 4800/10000] n_steps = 500, reward_avg = 0.784\n",
      "[Experiment 4900/10000] n_steps = 500, reward_avg = 0.714\n",
      "[Experiment 5000/10000] n_steps = 500, reward_avg = 0.77\n",
      "[Experiment 5100/10000] n_steps = 500, reward_avg = 0.796\n",
      "[Experiment 5200/10000] n_steps = 500, reward_avg = 0.788\n",
      "[Experiment 5300/10000] n_steps = 500, reward_avg = 0.738\n",
      "[Experiment 5400/10000] n_steps = 500, reward_avg = 0.754\n",
      "[Experiment 5500/10000] n_steps = 500, reward_avg = 0.774\n",
      "[Experiment 5600/10000] n_steps = 500, reward_avg = 0.79\n",
      "[Experiment 5700/10000] n_steps = 500, reward_avg = 0.766\n",
      "[Experiment 5800/10000] n_steps = 500, reward_avg = 0.744\n",
      "[Experiment 5900/10000] n_steps = 500, reward_avg = 0.726\n",
      "[Experiment 6000/10000] n_steps = 500, reward_avg = 0.774\n",
      "[Experiment 6100/10000] n_steps = 500, reward_avg = 0.774\n",
      "[Experiment 6200/10000] n_steps = 500, reward_avg = 0.81\n",
      "[Experiment 6300/10000] n_steps = 500, reward_avg = 0.776\n",
      "[Experiment 6400/10000] n_steps = 500, reward_avg = 0.808\n",
      "[Experiment 6500/10000] n_steps = 500, reward_avg = 0.758\n",
      "[Experiment 6600/10000] n_steps = 500, reward_avg = 0.754\n",
      "[Experiment 6700/10000] n_steps = 500, reward_avg = 0.804\n",
      "[Experiment 6800/10000] n_steps = 500, reward_avg = 0.802\n",
      "[Experiment 6900/10000] n_steps = 500, reward_avg = 0.724\n",
      "[Experiment 7000/10000] n_steps = 500, reward_avg = 0.818\n",
      "[Experiment 7100/10000] n_steps = 500, reward_avg = 0.714\n",
      "[Experiment 7200/10000] n_steps = 500, reward_avg = 0.79\n",
      "[Experiment 7300/10000] n_steps = 500, reward_avg = 0.748\n",
      "[Experiment 7400/10000] n_steps = 500, reward_avg = 0.78\n",
      "[Experiment 7500/10000] n_steps = 500, reward_avg = 0.8\n",
      "[Experiment 7600/10000] n_steps = 500, reward_avg = 0.786\n",
      "[Experiment 7700/10000] n_steps = 500, reward_avg = 0.758\n",
      "[Experiment 7800/10000] n_steps = 500, reward_avg = 0.772\n",
      "[Experiment 7900/10000] n_steps = 500, reward_avg = 0.724\n",
      "[Experiment 8000/10000] n_steps = 500, reward_avg = 0.812\n",
      "[Experiment 8100/10000] n_steps = 500, reward_avg = 0.816\n",
      "[Experiment 8200/10000] n_steps = 500, reward_avg = 0.768\n",
      "[Experiment 8300/10000] n_steps = 500, reward_avg = 0.776\n",
      "[Experiment 8400/10000] n_steps = 500, reward_avg = 0.764\n",
      "[Experiment 8500/10000] n_steps = 500, reward_avg = 0.772\n",
      "[Experiment 8600/10000] n_steps = 500, reward_avg = 0.786\n",
      "[Experiment 8700/10000] n_steps = 500, reward_avg = 0.74\n",
      "[Experiment 8800/10000] n_steps = 500, reward_avg = 0.788\n",
      "[Experiment 8900/10000] n_steps = 500, reward_avg = 0.782\n",
      "[Experiment 9000/10000] n_steps = 500, reward_avg = 0.782\n",
      "[Experiment 9100/10000] n_steps = 500, reward_avg = 0.788\n",
      "[Experiment 9200/10000] n_steps = 500, reward_avg = 0.778\n",
      "[Experiment 9300/10000] n_steps = 500, reward_avg = 0.784\n",
      "[Experiment 9400/10000] n_steps = 500, reward_avg = 0.776\n",
      "[Experiment 9500/10000] n_steps = 500, reward_avg = 0.802\n",
      "[Experiment 9600/10000] n_steps = 500, reward_avg = 0.776\n",
      "[Experiment 9700/10000] n_steps = 500, reward_avg = 0.756\n",
      "[Experiment 9800/10000] n_steps = 500, reward_avg = 0.772\n",
      "[Experiment 9900/10000] n_steps = 500, reward_avg = 0.796\n",
      "[Experiment 10000/10000] n_steps = 500, reward_avg = 0.748\n"
     ]
    }
   ],
   "metadata": {}
  },
  {
   "cell_type": "code",
   "execution_count": 11,
   "source": [
    "# Plot reward results\n",
    "R_avg =  R / float(N_experiments)\n",
    "plt.plot(R_avg, \".\")\n",
    "plt.xlabel(\"Step\")\n",
    "plt.ylabel(\"Average Reward\")\n",
    "plt.grid()\n",
    "ax = plt.gca()\n",
    "plt.xlim([1, N_steps])\n",
    "plt.show()\n",
    "plt.close()"
   ],
   "outputs": [
    {
     "output_type": "display_data",
     "data": {
      "text/plain": [
       "<Figure size 432x288 with 1 Axes>"
      ],
      "image/png": "[encoded data removed]"
     },
     "metadata": {
      "needs_background": "light"
     }
    }
   ],
   "metadata": {}
  },
  {
   "cell_type": "code",
   "execution_count": 12,
   "source": [
    "# Plot action results\n",
    "for i in range(len(probs)):\n",
    "    A_pct = 100 * A[:,i] / N_experiments\n",
    "    steps = list(np.array(range(len(A_pct)))+1)\n",
    "    plt.plot(steps, A_pct, \"-\",\n",
    "             linewidth=4,\n",
    "             label=\"Arm {} ({:.0f}%)\".format(i+1, 100*probs[i]))\n",
    "plt.xlabel(\"Step\")\n",
    "plt.ylabel(\"Count Percentage (%)\")\n",
    "leg = plt.legend(loc='upper left', shadow=True)\n",
    "plt.xlim([1, N_steps])\n",
    "plt.ylim([0, 100])\n",
    "for legobj in leg.legendHandles:\n",
    "    legobj.set_linewidth(4.0)\n",
    "plt.show()\n",
    "plt.close()"
   ],
   "outputs": [
    {
     "output_type": "display_data",
     "data": {
      "text/plain": [
       "<Figure size 432x288 with 1 Axes>"
      ],
      "image/png": "[encoded data removed]"
     },
     "metadata": {
      "needs_background": "light"
     }
    }
   ],
   "metadata": {}
  },
  {
   "cell_type": "markdown",
   "source": [
    "solution available in GITHub as well at https://github.com/MSAbhishek214/Python/blob/main/PracticePython/Module%208%20Exam/Part%20A%20Q1%20Solution.ipynb"
   ],
   "metadata": {}
  }
 ],
 "metadata": {
  "orig_nbformat": 4,
  "language_info": {
   "name": "python",
   "version": "3.9.5",
   "mimetype": "text/x-python",
   "codemirror_mode": {
    "name": "ipython",
    "version": 3
   },
   "pygments_lexer": "ipython3",
   "nbconvert_exporter": "python",
   "file_extension": ".py"
  },
  "kernelspec": {
   "name": "python3",
   "display_name": "Python 3.9.5 64-bit"
  },
  "interpreter": {
   "hash": "aee8b7b246df8f9039afb4144a1f6fd8d2ca17a180786b69acc140d282b71a49"
  }
 },
 "nbformat": 4,
 "nbformat_minor": 2
}