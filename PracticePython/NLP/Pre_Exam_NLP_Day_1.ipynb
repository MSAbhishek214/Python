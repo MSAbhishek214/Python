{
 "cells": [
  {
   "cell_type": "code",
   "execution_count": 10,
   "source": [
    "import nltk\n",
    "from textblob import TextBlob\n",
    "import pandas as pd\n",
    "from ProText import gen"
   ],
   "outputs": [],
   "metadata": {}
  },
  {
   "cell_type": "code",
   "execution_count": 6,
   "source": [
    "data = pd.read_csv('Data.csv', usecols=['Tweet', 'ADR_label'])\n",
    "data\n"
   ],
   "outputs": [
    {
     "output_type": "execute_result",
     "data": {
      "text/plain": [
       "                                                   Tweet  ADR_label\n",
       "0          Intravenous azithromycin-induced ototoxicity.          1\n",
       "1      Immobilization, while Paget's bone disease was...          1\n",
       "2      Unaccountable severe hypercalcemia in a patien...          1\n",
       "3      METHODS: We report two cases of pseudoporphyri...          1\n",
       "4      METHODS: We report two cases of pseudoporphyri...          1\n",
       "...                                                  ...        ...\n",
       "23511  At autopsy, the liver was found to be small, s...          0\n",
       "23512  Physical exam revealed a patient with aphasia,...          0\n",
       "23513  At the time when the leukemia appeared seven o...          0\n",
       "23514  The American Society for Regional Anesthesia a...          0\n",
       "23515  Concomitant administration of estradiol result...          0\n",
       "\n",
       "[23516 rows x 2 columns]"
      ],
      "text/html": [
       "<div>\n",
       "<style scoped>\n",
       "    .dataframe tbody tr th:only-of-type {\n",
       "        vertical-align: middle;\n",
       "    }\n",
       "\n",
       "    .dataframe tbody tr th {\n",
       "        vertical-align: top;\n",
       "    }\n",
       "\n",
       "    .dataframe thead th {\n",
       "        text-align: right;\n",
       "    }\n",
       "</style>\n",
       "<table border=\"1\" class=\"dataframe\">\n",
       "  <thead>\n",
       "    <tr style=\"text-align: right;\">\n",
       "      <th></th>\n",
       "      <th>Tweet</th>\n",
       "      <th>ADR_label</th>\n",
       "    </tr>\n",
       "  </thead>\n",
       "  <tbody>\n",
       "    <tr>\n",
       "      <th>0</th>\n",
       "      <td>Intravenous azithromycin-induced ototoxicity.</td>\n",
       "      <td>1</td>\n",
       "    </tr>\n",
       "    <tr>\n",
       "      <th>1</th>\n",
       "      <td>Immobilization, while Paget's bone disease was...</td>\n",
       "      <td>1</td>\n",
       "    </tr>\n",
       "    <tr>\n",
       "      <th>2</th>\n",
       "      <td>Unaccountable severe hypercalcemia in a patien...</td>\n",
       "      <td>1</td>\n",
       "    </tr>\n",
       "    <tr>\n",
       "      <th>3</th>\n",
       "      <td>METHODS: We report two cases of pseudoporphyri...</td>\n",
       "      <td>1</td>\n",
       "    </tr>\n",
       "    <tr>\n",
       "      <th>4</th>\n",
       "      <td>METHODS: We report two cases of pseudoporphyri...</td>\n",
       "      <td>1</td>\n",
       "    </tr>\n",
       "    <tr>\n",
       "      <th>...</th>\n",
       "      <td>...</td>\n",
       "      <td>...</td>\n",
       "    </tr>\n",
       "    <tr>\n",
       "      <th>23511</th>\n",
       "      <td>At autopsy, the liver was found to be small, s...</td>\n",
       "      <td>0</td>\n",
       "    </tr>\n",
       "    <tr>\n",
       "      <th>23512</th>\n",
       "      <td>Physical exam revealed a patient with aphasia,...</td>\n",
       "      <td>0</td>\n",
       "    </tr>\n",
       "    <tr>\n",
       "      <th>23513</th>\n",
       "      <td>At the time when the leukemia appeared seven o...</td>\n",
       "      <td>0</td>\n",
       "    </tr>\n",
       "    <tr>\n",
       "      <th>23514</th>\n",
       "      <td>The American Society for Regional Anesthesia a...</td>\n",
       "      <td>0</td>\n",
       "    </tr>\n",
       "    <tr>\n",
       "      <th>23515</th>\n",
       "      <td>Concomitant administration of estradiol result...</td>\n",
       "      <td>0</td>\n",
       "    </tr>\n",
       "  </tbody>\n",
       "</table>\n",
       "<p>23516 rows × 2 columns</p>\n",
       "</div>"
      ]
     },
     "metadata": {},
     "execution_count": 6
    }
   ],
   "metadata": {}
  },
  {
   "cell_type": "code",
   "execution_count": 12,
   "source": [
    "data['Tweet'] = data['Tweet'].apply(gen)\n",
    "data['Tweet']"
   ],
   "outputs": [
    {
     "output_type": "execute_result",
     "data": {
      "text/plain": [
       "0            Intravenous azithromycin induced ototoxicity \n",
       "1        Immobilization  while Paget s bone disease was...\n",
       "2        Unaccountable severe hypercalcemia in a patien...\n",
       "3        METHODS  We report two cases of pseudoporphyri...\n",
       "4        METHODS  We report two cases of pseudoporphyri...\n",
       "                               ...                        \n",
       "23511    At autopsy  the liver was found to be small  s...\n",
       "23512    Physical exam revealed a patient with aphasia ...\n",
       "23513    At the time when the leukemia appeared seven o...\n",
       "23514    The American Society for Regional Anesthesia a...\n",
       "23515    Concomitant administration of estradiol result...\n",
       "Name: Tweet, Length: 23516, dtype: object"
      ]
     },
     "metadata": {},
     "execution_count": 12
    }
   ],
   "metadata": {}
  },
  {
   "cell_type": "code",
   "execution_count": 13,
   "source": [
    "from sklearn.feature_extraction.text import TfidfVectorizer\n",
    "from sklearn.metrics.pairwise import cosine_similarity"
   ],
   "outputs": [],
   "metadata": {}
  },
  {
   "cell_type": "code",
   "execution_count": 14,
   "source": [
    "\n",
    "tfidf_vectorizer = TfidfVectorizer()\n",
    "tfidf_matrix = tfidf_vectorizer.fit_transform(data['Tweet'])"
   ],
   "outputs": [],
   "metadata": {}
  },
  {
   "cell_type": "code",
   "execution_count": 15,
   "source": [
    "tfidf_matrix.shape"
   ],
   "outputs": [
    {
     "output_type": "execute_result",
     "data": {
      "text/plain": [
       "(23516, 17162)"
      ]
     },
     "metadata": {},
     "execution_count": 15
    }
   ],
   "metadata": {}
  },
  {
   "cell_type": "code",
   "execution_count": 16,
   "source": [
    "cosine_similarity(tfidf_matrix[0:1],tfidf_matrix)"
   ],
   "outputs": [
    {
     "output_type": "execute_result",
     "data": {
      "text/plain": [
       "array([[1., 0., 0., ..., 0., 0., 0.]])"
      ]
     },
     "metadata": {},
     "execution_count": 16
    }
   ],
   "metadata": {}
  },
  {
   "cell_type": "code",
   "execution_count": 17,
   "source": [
    "from nltk.corpus import stopwords \n",
    "from nltk.tokenize import word_tokenize, sent_tokenize \n",
    "stop_words = set(stopwords.words('english'))"
   ],
   "outputs": [],
   "metadata": {}
  },
  {
   "cell_type": "code",
   "execution_count": 22,
   "source": [
    "tokens = []\n",
    "for tweet in data['Tweet']:\n",
    "    tokens.append(sent_tokenize(tweet))"
   ],
   "outputs": [],
   "metadata": {}
  },
  {
   "cell_type": "code",
   "execution_count": 25,
   "source": [
    "for i in tokens:\n",
    "    i = str(i[0])\n",
    "    words = nltk.word_tokenize(i)\n",
    "    words = [w for w in words if not w in stop_words]\n",
    "    #  POS-tagger.\n",
    "    tags = nltk.pos_tag(words)"
   ],
   "outputs": [],
   "metadata": {}
  },
  {
   "cell_type": "code",
   "execution_count": 26,
   "source": [
    "tags"
   ],
   "outputs": [
    {
     "output_type": "execute_result",
     "data": {
      "text/plain": [
       "[('Concomitant', 'JJ'),\n",
       " ('administration', 'NN'),\n",
       " ('estradiol', 'NN'),\n",
       " ('resulted', 'VBD'),\n",
       " ('reduction', 'NN'),\n",
       " ('serum', 'NN'),\n",
       " ('alanine', 'NN'),\n",
       " ('aminotransferase', 'NN'),\n",
       " ('ferritin', 'NN'),\n",
       " ('levels', 'NNS'),\n",
       " ('hepatic', 'JJ'),\n",
       " ('iron', 'NN'),\n",
       " ('concentration', 'NN'),\n",
       " ('staining', 'VBG'),\n",
       " ('2', 'CD'),\n",
       " ('years', 'NNS'),\n",
       " ('estrogen', 'RB'),\n",
       " ('therapy', 'VBP'),\n",
       " ('although', 'IN'),\n",
       " ('interferon', 'NN'),\n",
       " ('therapy', 'NN'),\n",
       " ('withdrawn', 'NN'),\n",
       " ('adverse', 'JJ'),\n",
       " ('effects', 'NNS')]"
      ]
     },
     "metadata": {},
     "execution_count": 26
    }
   ],
   "metadata": {}
  },
  {
   "cell_type": "code",
   "execution_count": null,
   "source": [],
   "outputs": [],
   "metadata": {}
  }
 ],
 "metadata": {
  "orig_nbformat": 4,
  "language_info": {
   "name": "python",
   "version": "3.9.5",
   "mimetype": "text/x-python",
   "codemirror_mode": {
    "name": "ipython",
    "version": 3
   },
   "pygments_lexer": "ipython3",
   "nbconvert_exporter": "python",
   "file_extension": ".py"
  },
  "kernelspec": {
   "name": "python3",
   "display_name": "Python 3.9.5 64-bit"
  },
  "interpreter": {
   "hash": "aee8b7b246df8f9039afb4144a1f6fd8d2ca17a180786b69acc140d282b71a49"
  }
 },
 "nbformat": 4,
 "nbformat_minor": 2
}